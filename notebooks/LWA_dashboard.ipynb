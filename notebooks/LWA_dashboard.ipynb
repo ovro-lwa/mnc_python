{
 "cells": [
  {
   "cell_type": "code",
   "execution_count": null,
   "metadata": {
    "scrolled": false
   },
   "outputs": [],
   "source": [
    "from os import environ, path\n",
    "import glob\n",
    "import os.path\n",
    "from astropy import time\n",
    "import numpy as np\n",
    "from IPython import display\n",
    "import pandas as pd\n",
    "import panel as pn\n",
    "pn.extension(\"tabulator\")\n",
    "import hvplot.pandas\n",
    "import holoviews as hv\n",
    "from dateutil.parser import parse \n",
    "\n",
    "import casacore.tables\n",
    "from lwautils import lwa_arx\n",
    "from lwautils import TimeoutException\n",
    "from lwa_antpos import reading, mapping, lwa_df\n",
    "from mnc import mcs, common, control, anthealth\n",
    "import dsautils.cnf as cnf\n",
    "from dsautils import dsa_store\n",
    "from lwa352_pipeline_control import Lwa352PipelineControl, Lwa352CorrelatorControl\n",
    "import threading\n",
    "\n",
    "ls = dsa_store.DsaStore()"
   ]
  },
  {
   "cell_type": "markdown",
   "metadata": {},
   "source": [
    "## Set up"
   ]
  },
  {
   "cell_type": "code",
   "execution_count": null,
   "metadata": {
    "scrolled": true
   },
   "outputs": [],
   "source": [
    "dd_statuses = []\n",
    "con = control.Controller(f\"/home/pipeline/proj/lwa-shell/mnc_python/config/lwa_config_calim.yaml\", \n",
    "                        recorders=['dr1', 'dr2', 'dr3', 'dr4', 'dr5', 'dr6', 'dr7', 'dr8' ,\n",
    "                                   'drt1', 'drvs', 'drvf'])\n",
    "adrs = con.conf['arx']['adrs']\n",
    "npipeline = con.conf['xengines']['nxpipeline']\n",
    "\n",
    "# get recorders and convert 'drvs/f' into full set of recorders\n",
    "recorders = con.conf['dr']['recorders'].copy()\n",
    "if 'drvs' in recorders:\n",
    "    recorders.remove('drvs')\n",
    "    for num in con.drvnums[::2]:  # one per pair\n",
    "        recorders.append('drvs'+str(num))\n",
    "\n",
    "if 'drvf' in recorders:\n",
    "    recorders.remove('drvf')\n",
    "    for num in con.drvnums[::2]:  # one per pair\n",
    "        recorders.append('drvf'+str(num))\n",
    "\n",
    "def most_recent_bcal(directory):\n",
    "    # Get a list of all files in the directory\n",
    "    # Partly written by ChatGPT\n",
    "\n",
    "    files = glob.glob(path.join(directory, '*.bcal'))\n",
    "\n",
    "    # Sort the files by creation time (oldest to newest)\n",
    "    files.sort(key=lambda x: path.getctime(path.join(directory, x)))\n",
    "\n",
    "    # Return the last (most recent) file in the list\n",
    "    return path.join(directory, files[-1])"
   ]
  },
  {
   "cell_type": "markdown",
   "metadata": {},
   "source": [
    "## cnf"
   ]
  },
  {
   "cell_type": "code",
   "execution_count": null,
   "metadata": {
    "scrolled": true
   },
   "outputs": [],
   "source": [
    "#df_cnf_read = reading.read_antpos_etcd()\n",
    "#df_cnf_read = reading.read_antpos_xlsx()\n",
    "df_cnf_read = reading.read_antpos()\n",
    "df_cnf = df_cnf_read[['snap2_hostname', 'snap2_chassis', 'snap2_location', 'pola_digitizer_channel',\n",
    "                      'polb_digitizer_channel', 'arx_address', 'pola_arx_channel', 'polb_arx_channel',\n",
    "                      'pola_fee', 'polb_fee', 'corr_num']]\n",
    "df_cnf_pane = pn.widgets.Tabulator(df_cnf, layout='fit_data_table', pagination='remote', page_size=20)"
   ]
  },
  {
   "cell_type": "markdown",
   "metadata": {},
   "source": [
    "## Build table functions"
   ]
  },
  {
   "cell_type": "code",
   "execution_count": null,
   "metadata": {
    "scrolled": true
   },
   "outputs": [],
   "source": [
    "# arx table build function\n",
    "def build_a():\n",
    "    ma = lwa_arx.ARX()\n",
    "    arxcfg = []\n",
    "\n",
    "    for adr in adrs:\n",
    "        try:\n",
    "            dds = ma.get_all_chan_cfg(adr)\n",
    "        except:\n",
    "            continue\n",
    "        for ch, dd in enumerate(dds):\n",
    "            dd['adr-ch'] = f'{adr}-{ch+1}'\n",
    "            arxcfg.append(dd)\n",
    "        dd_astatus = {'name': f'arx{adr}', 'mp_age': 0, 'ready': dd['sig_on']}\n",
    "        dd_statuses.append(dd_astatus)\n",
    "\n",
    "    df_arx = pd.DataFrame.from_dict(arxcfg)\n",
    "    if any(df_arx):\n",
    "        df_arx.set_index('adr-ch', inplace=True)\n",
    "\n",
    "    df_a_pane = pn.widgets.Tabulator(df_arx, layout='fit_data_table', pagination='remote',\n",
    "                                     width=900, page_size=20)\n",
    "    return df_a_pane\n",
    "\n",
    "\n",
    "# f-engine table build function\n",
    "def build_f():\n",
    "    global con\n",
    "    dd_fs = []\n",
    "    t_now = time.Time.now().unix\n",
    "    try:\n",
    "        _, stats = con.status_fengine()\n",
    "    except Exception as e:\n",
    "        del con\n",
    "        return pn.panel(f'{e}')\n",
    "\n",
    "    snap2names = con.conf['fengines']['snap2s_inuse']\n",
    "    for snap2name in snap2names:\n",
    "        t_now = time.Time.now().unix\n",
    "        st = stats[snap2name]['fpga']\n",
    "        timestamp = time.Time(st['timestamp'])\n",
    "\n",
    "        if snap2name not in stats:\n",
    "            continue\n",
    "        else:\n",
    "            dd_fstatus = {'name': snap2name, 'age (s)': int(t_now-timestamp.unix),\n",
    "                          'ready': stats[snap2name]['fpga']['programmed']}\n",
    "\n",
    "        dd_statuses.append(dd_fstatus)\n",
    "\n",
    "        plot_fstats = None\n",
    "\n",
    "        dd_f = {'name': snap2name}\n",
    "        dd_f['age (s)'] = int(t_now-timestamp.unix)\n",
    "#    dd_f['is_connected'] = lwa_feng.is_connected()  # can SNAP be reached with ping on network?\n",
    "#    dd_f['is_polling'] = lwa_fe.is_polling()   # is monitor service checking on SNAP?\n",
    "        dd_f['prog\\'d?'] = st['programmed']\n",
    "        dd_f['clk MHz'] = f\"{st['fpga_clk_mhz']:.1f}\"\n",
    "        dd_f['gbps'] = f\"{stats[snap2name]['eth']['gbps']:.1f}\"\n",
    "\n",
    "        st = stats[snap2name]['corr']\n",
    "        dd_f['corr_acc_len'] = st['acc_len']\n",
    "\n",
    "        st = stats[snap2name]['eqtvg']\n",
    "        dd_f['test vector'] = st['tvg_enabled']\n",
    "        \n",
    "        dd_f['firmware'] = stats[snap2name]['fpga']['flash_firmware']\n",
    "        \n",
    "        st = stats[snap2name]['pfb']\n",
    "        dd_f['overflow_count'] = st['overflow_count']\n",
    "\n",
    "        if 'eq' in stats[snap2name]:\n",
    "            st = stats[snap2name]['eq']\n",
    "            dd_f['clip_count'] = st['clip_count']\n",
    "\n",
    "        dd_fs.append(dd_f)\n",
    "\n",
    "    df_f = pd.DataFrame.from_dict(dd_fs)\n",
    "    if any(df_f):\n",
    "        df_f.set_index('name', inplace=True)\n",
    "        \n",
    "    df_f_pane = pn.widgets.Tabulator(df_f, layout='fit_data_table', pagination='remote',\n",
    "                                     width=1100, page_size=20)\n",
    "\n",
    "    return df_f_pane\n",
    "\n",
    "\n",
    "# TODO: f-engine stats plot build function\n",
    "def build_fstats(snap2name):\n",
    "    st = stats[snap2name]['input']\n",
    "    pows = np.array([v for (k,v) in st.items() if 'pow' in k])\n",
    "    means = np.array([v for (k,v) in st.items() if 'mean' in k])\n",
    "    rms = np.array([v for (k,v) in st.items() if 'rms' in k])\n",
    "#    snap_input = [f'{snap2name}-{k.strip(\"rms\")}' for (k,v) in st.items() if 'rms' in k]\n",
    "    df_fstats = pd.DataFrame(data={'pows': pows, 'mean': means, 'snap': len(pows)*[f'{snap2name}']})\n",
    "    plot_fstats = df_fstats.hvplot.scatter('pows', 'mean', by='snap', width=700, title='F-engine stats')\n",
    "\n",
    "    return plot_fstats\n",
    "\n",
    "\n",
    "# x-engine table build function\n",
    "def build_x():\n",
    "    \n",
    "    dd_xs = []\n",
    "    t_now = time.Time.now().unix\n",
    "\n",
    "    xhosts = con.conf['xengines']['xhosts']\n",
    "    for host in xhosts:\n",
    "        for pipeline in range(npipeline):\n",
    "            name = f'{host}-{pipeline}'\n",
    "            dd_x = {'name': name}\n",
    "            try:\n",
    "                lwa_x = Lwa352PipelineControl(pipeline_id=pipeline, etcdhost=common.ETCD_HOST, host=host)\n",
    "            except Exception as e:\n",
    "                dd_x['state']=str(e)\n",
    "                dd_xs.append(dd_x)\n",
    "                continue\n",
    "            try:\n",
    "                if lwa_x.pipeline_is_up():\n",
    "                    st = lwa_x.corr.get_bifrost_status()\n",
    "                    capture_st = lwa_x.capture.get_bifrost_status()\n",
    "                    stats = st['stats']\n",
    "                    t_now = time.Time.now().unix\n",
    "                    dd_x['mp_age'] = int(t_now-st['time'])\n",
    "                    dd_x['state'] = stats['state']\n",
    "    #                dd_xstatus = {'name': name}\n",
    "    #                dd_xstatus['age (s)'] = int(t_now-st['time'])\n",
    "                    dd_x['Corr gbps'] = st['gbps']\n",
    "                    dd_x['Rx gbps'] = capture_st['gbps']\n",
    "                    if len(st) > 1:\n",
    "    #                    dd_xstatus['ready'] = stats['state'] == 'running'\n",
    "                        if stats['state'] == 'running':\n",
    "                            dd_x['curr_sample'] = stats['curr_sample']\n",
    "    #                dd_statuses.append(dd_xstatus)\n",
    "                else:\n",
    "                    dd_x['state'] = 'Pipeline down.'\n",
    "            except Exception as e:\n",
    "                dd_x['state'] = str(e)\n",
    "            dd_xs.append(dd_x)\n",
    "\n",
    "    df_x = pd.DataFrame.from_dict(dd_xs)\n",
    "    if any(df_x):\n",
    "        df_x.set_index('name', inplace=True)\n",
    "\n",
    "    df_x_pane = pn.widgets.Tabulator(df_x, layout='fit_data_table',\n",
    "                                     width=1100)\n",
    "\n",
    "    return df_x_pane\n",
    "\n",
    "\n",
    "# Antenna table build function\n",
    "def build_ant():\n",
    "    \n",
    "    tb = casacore.tables.table(most_recent_bcal('/home/pipeline/caltables/latest/'))\n",
    "    flags = tb.getcol(\"FLAG\")\n",
    "\n",
    "# delays available like this:\n",
    "#    _, stats = con.status_fengine()\n",
    "#    delays = stats['snap02']['delay']\n",
    "\n",
    "    badants = anthealth.get_badants('selfcorr')\n",
    "    badants_a = [b.rstrip(\"A\") for b in badants[1]]\n",
    "    badants_b = [b.rstrip(\"B\") for b in badants[1]]\n",
    "    flag_selfcorr_a = [mapping.correlator_to_antname(i) in badants_a\n",
    "                       for i in range(len(flags))]\n",
    "    flag_selfcorr_b = [mapping.correlator_to_antname(i) in badants_b\n",
    "                       for i in range(len(flags))]\n",
    "\n",
    "    ant_flags = [(mapping.correlator_to_antname(i),\n",
    "                  i, \n",
    "                  lwa_df.loc[mapping.correlator_to_antname(i)].online,\n",
    "                  ~flags[i].all(),\n",
    "                 mapping.correlator_to_antname(i) in badants_a,\n",
    "                 mapping.correlator_to_antname(i) in badants_b)\n",
    "                 for i in range(len(flags))]\n",
    "\n",
    "    \n",
    "    df_ant = pd.DataFrame(ant_flags, columns=['name', 'corr_num', 'online', 'MS unflagged', 'Selfcorr A bad', 'Selfcorr B bad'])\n",
    "    df_ant.set_index('name', inplace=True)\n",
    "    df_ant.sort_index(inplace=True)\n",
    "    df_ant_pane = pn.widgets.Tabulator(df_ant, layout='fit_data_table', pagination='remote',\n",
    "                                 width=900, page_size=20)\n",
    "    return df_ant_pane\n",
    "\n",
    "\n",
    "# Data recorder table build function\n",
    "def build_dr():\n",
    "    dd_ds = []\n",
    "    t_now = time.Time.now().unix\n",
    "\n",
    "    def val(monitor_point):\n",
    "        return monitor_point.value if monitor_point else np.nan\n",
    "    \n",
    "    for drid in recorders:\n",
    "        dd_d = {'name': drid}\n",
    "        try:\n",
    "            lwa_dr = mcs.Client(drid)\n",
    "        except Exception as e:\n",
    "            dd_d['info'] = f'INTERNAL ERROR: {e}'\n",
    "            dd_ds.append(dd_d)\n",
    "            continue\n",
    "        try:\n",
    "            summary = lwa_dr.read_monitor_point('summary')\n",
    "            t_mp = summary.timestamp\n",
    "\n",
    "            rx_rate = val(lwa_dr.read_monitor_point('bifrost/rx_rate'))/1e6\n",
    "            rx_missing = val(lwa_dr.read_monitor_point('bifrost/rx_missing'))\n",
    "            pipeline_lag = val(lwa_dr.read_monitor_point('bifrost/pipeline_lag'))\n",
    "            tbfree = val(lwa_dr.read_monitor_point('storage/active_disk_free'))/1e12\n",
    "            activedir = val(lwa_dr.read_monitor_point('storage/active_directory'))\n",
    "\n",
    "            status = val(summary) + ', ' + str(val(lwa_dr.read_monitor_point('op-type')))\n",
    "            info = val(lwa_dr.read_monitor_point('info'))\n",
    "            dd_d.update({'age (s)': int(t_now-t_mp), 'receive mbps': int(rx_rate),\n",
    "                         'Missing fraction': f'{(rx_missing*100):.1f}%',\n",
    "                    'pipeline_lag (s)': pipeline_lag,\n",
    "                    'Disk free (TB)': f'{tbfree:.1f}', 'Active dir': activedir,\n",
    "                    'status': status, 'info': info})\n",
    "        except Exception as e:\n",
    "            dd_d['info'] = f'INTERNAL ERROR: {e}'\n",
    "        dd_ds.append(dd_d)\n",
    "\n",
    "    df_d = pd.DataFrame.from_dict(dd_ds)\n",
    "    if any(df_d):\n",
    "        df_d.set_index('name', inplace=True)\n",
    "\n",
    "    df_d_pane = pn.widgets.Tabulator(df_d, layout='fit_data_table', pagination='remote',\n",
    "                                     width=1100, page_size=20)\n",
    "\n",
    "    return df_d_pane\n",
    "\n",
    "\n",
    "def build_plot(path, antnum):\n",
    "    if antnum is None:\n",
    "        return \"No antnum selected\"\n",
    "\n",
    "#    fn = f'{path}/fig/tmp/{antnum:03}.jpg'\n",
    "    fns = glob.glob(f'{path}/fig/*png')\n",
    "    print(fns)\n",
    "    if len(fns):\n",
    "        fn = fns[antnum]  # TODO: make this select antenna plot from sorted list\n",
    "        plot_pane = pn.pane.PNG(fn, width=700)\n",
    "    else:\n",
    "        plot_pane = f'No f-eng summary plot for {antnum}'\n",
    "\n",
    "    return plot_pane\n",
    "\n",
    "\n",
    "def build_drvbl(drname):\n",
    "    if drname not in ['drvs'+str(num) for num in con.drvnums]:\n",
    "        pane_baselines = f'No plot available for {drname}'\n",
    "    else:\n",
    "        cl = mcs.Client(drname)\n",
    "        data_baselines = cl.read_monitor_point('diagnostics/baselines')\n",
    "        if data_baselines is not None:\n",
    "            pane_baselines = pn.pane.PNG(display.Image(mcs.ImageMonitorPoint._decode_image_data(data_baselines.value)),\n",
    "                                        width=700)\n",
    "        else:\n",
    "            pane_baselines = f'No plot available for {drname}'\n",
    "    return pane_baselines\n",
    "\n",
    "def build_drvim(drname):\n",
    "    if drname not in ['drvs'+str(num) for num in con.drvnums]:\n",
    "        pane_image = f'No image available for {drname}'\n",
    "    else:\n",
    "        cl = mcs.Client(drname)\n",
    "        data_image = cl.read_monitor_point('diagnostics/image')\n",
    "        if data_image is not None:\n",
    "            pane_image = pn.pane.PNG(display.Image(mcs.ImageMonitorPoint._decode_image_data(data_image.value)),\n",
    "                                                   width=700)\n",
    "        else:\n",
    "            pane_image = f'No image available for {drname}'\n",
    "    return pane_image\n",
    "\n",
    "def build_data(drname):\n",
    "    pane_baselines = build_drvbl(drname)\n",
    "    pane_image = build_drvim(drname)\n",
    "    col = pn.Column(pane_image, pane_baselines)\n",
    "\n",
    "    return col"
   ]
  },
  {
   "cell_type": "raw",
   "metadata": {
    "scrolled": true
   },
   "source": [
    "# TODO: potentially expose the calibration state here\n",
    "# con.configure_xengine(recorders='dr3')\n",
    "# con.bfc[3].cal_set == True maps to a green beamformer?"
   ]
  },
  {
   "cell_type": "code",
   "execution_count": null,
   "metadata": {
    "scrolled": true
   },
   "outputs": [],
   "source": [
    "#build_dr()\n",
    "#build_a()\n",
    "#df_arx_pane\n",
    "#df_f_pane\n",
    "#df_x_pane\n",
    "#df_ant_pane\n",
    "#df_d_pane\n",
    "#pane_baselines\n",
    "#pane_image"
   ]
  },
  {
   "cell_type": "code",
   "execution_count": null,
   "metadata": {
    "scrolled": true
   },
   "outputs": [],
   "source": [
    "#df_status = pd.DataFrame.from_dict(dd_statuses)\n",
    "#df_status.set_index('name', inplace=True)"
   ]
  },
  {
   "cell_type": "markdown",
   "metadata": {},
   "source": [
    "### debugging up go/no-go"
   ]
  },
  {
   "cell_type": "code",
   "execution_count": null,
   "metadata": {
    "scrolled": true
   },
   "outputs": [],
   "source": [
    "# or broken out:\n",
    "#fpga.get_status()['is_programmed']\n",
    "#fpga.get_status()['fpga_clk_mhz']\n",
    "#eth.get_status()['gbps']"
   ]
  },
  {
   "cell_type": "code",
   "execution_count": null,
   "metadata": {
    "scrolled": true
   },
   "outputs": [],
   "source": [
    "#status_a = []  # what is 'no-go' for an ARX channel/board?"
   ]
  },
  {
   "cell_type": "code",
   "execution_count": null,
   "metadata": {
    "scrolled": true
   },
   "outputs": [],
   "source": [
    "t_stale = 120"
   ]
  },
  {
   "cell_type": "code",
   "execution_count": null,
   "metadata": {
    "scrolled": true
   },
   "outputs": [],
   "source": [
    "status_f =  []\n",
    "for snapnum in range(1, 12):\n",
    "    status = ls.get_dict(f'/mon/snap/{snapnum:02}/status')\n",
    "    t_age = time.Time.now().unix-time.Time(parse(status['timestamp'])).unix\n",
    "    status_f.append((str(snapnum), (status['ok'] and t_age < t_stale)))"
   ]
  },
  {
   "cell_type": "code",
   "execution_count": null,
   "metadata": {
    "scrolled": true
   },
   "outputs": [],
   "source": [
    "status_x = []\n",
    "hostids = [f'{pp.host[-2:]}{pp.pipeline_id}' for pp in con.pipelines]\n",
    "for host in con.xhosts:\n",
    "#for pipeline in con.pipelines:\n",
    "    for ii in range(con.npipeline):\n",
    "        hostid = host[-2:] + str(ii)\n",
    "        if hostid in hostids:\n",
    "            pp = con.pipelines[hostids.index(hostid)]\n",
    "            t_age = time.Time.now().unix-pp.capture.get_bifrost_status()['time']\n",
    "            rate = pp.capture.get_bifrost_status()['gbps']\n",
    "            stats = pp.corr.get_bifrost_status()['stats']\n",
    "            if 'state' in stats:\n",
    "                state = stats['state']\n",
    "            else:\n",
    "                state = None\n",
    "            status_x.append((hostid, (rate > 10 and t_age < t_stale and state == 'running')))\n",
    "        else:\n",
    "            status_x.append((hostid, False))"
   ]
  },
  {
   "cell_type": "code",
   "execution_count": null,
   "metadata": {
    "scrolled": true
   },
   "outputs": [],
   "source": [
    "status_dr = []\n",
    "for dr in recorders:\n",
    "    try:\n",
    "        summary = mcs.Client(dr).read_monitor_point('summary')\n",
    "        t_age = time.Time.now().unix-summary.timestamp\n",
    "        status_dr.append((dr.lstrip('dr'), (summary.value == 'normal' and t_age < t_stale)))\n",
    "    except AttributeError:\n",
    "        status_dr.append((dr.lstrip('dr'), False))"
   ]
  },
  {
   "cell_type": "code",
   "execution_count": null,
   "metadata": {
    "scrolled": false
   },
   "outputs": [],
   "source": [
    "statuses = ['red', 'green']\n",
    "width = 25\n",
    "label_row = pn.Row(pn.pane.HTML('Go/No-Go: F-eng, X-eng, DR', style={'padding': '10px', 'border':'2px solid black'}))\n",
    "f_row = pn.Row(*[pn.pane.HTML(name, width=int(900/len(status_f)), align='center', height=width, margin=1, background=statuses[st]) for name, st in status_f])\n",
    "x_row = pn.Row(*[pn.pane.HTML(name, width=int(900/len(status_x)), align='center', height=width, margin=1, background=statuses[st]) for name, st in status_x])\n",
    "dr_row = pn.Row(*[pn.pane.HTML(name, width=int(900/len(status_dr)), align='center', height=width, margin=1, background=statuses[st]) for name, st in status_dr])\n",
    "\n",
    "pane_gonogo = pn.Column(label_row, f_row, x_row, dr_row)"
   ]
  },
  {
   "cell_type": "code",
   "execution_count": null,
   "metadata": {
    "scrolled": true
   },
   "outputs": [],
   "source": [
    "def cleanup(session_context):\n",
    "    global con, ls\n",
    "    con.drc.client.close()\n",
    "    for pl in con.pcontroller.pipelines:\n",
    "        pl.corr_interface.close()\n",
    "    con = None\n",
    "    ls = None\n",
    "    reading.ls = None"
   ]
  },
  {
   "cell_type": "code",
   "execution_count": null,
   "metadata": {
    "scrolled": true
   },
   "outputs": [],
   "source": [
    "#pane_gonogo"
   ]
  },
  {
   "cell_type": "code",
   "execution_count": null,
   "metadata": {
    "scrolled": true
   },
   "outputs": [],
   "source": [
    "# make pane to show low-freq-sky web app\n",
    "pane_lfs = pn.pane.HTML(\"<iframe src='http://localhost:8081', height=700, width=900>\")"
   ]
  },
  {
   "cell_type": "markdown",
   "metadata": {},
   "source": [
    "## Build dashboard"
   ]
  },
  {
   "cell_type": "code",
   "execution_count": null,
   "metadata": {
    "scrolled": true
   },
   "outputs": [],
   "source": [
    "ant_filter = pn.widgets.IntInput(name='Select ant to display antenna autocorr plot',\n",
    "                                 placeholder='1,2,3,4,5,6,7,8,9,10,...,352', value=None)\n",
    "directories = sorted(glob.glob('/lustre/pipeline/lastnight/*'))\n",
    "directory_filter = pn.widgets.Select(name='Select date to display antenna autocorr plot',\n",
    "                                     options=directories, value=directories[-1])\n",
    "dr_filter = pn.widgets.Select(name='Select data recorder to display data',\n",
    "                              options=sorted(list(set(['drvs'+str(num) for num in con.drvnums]))))\n",
    "\n",
    "pant = pn.param.ParamFunction(build_ant, lazy=True)\n",
    "pa = pn.param.ParamFunction(build_a, lazy=True)\n",
    "pfeng = pn.param.ParamFunction(build_f, lazy=True)\n",
    "px = pn.param.ParamFunction(build_x, lazy=True)\n",
    "pdr = pn.param.ParamFunction(build_dr, lazy=True)"
   ]
  },
  {
   "cell_type": "code",
   "execution_count": null,
   "metadata": {
    "scrolled": true
   },
   "outputs": [],
   "source": [
    "# make data display in tabs\n",
    "\n",
    "# TODO: make these lazy evaluated functions\n",
    "plot_spec_pane = pn.Column(pn.Column(directory_filter),\n",
    "                           pn.Column(ant_filter),\n",
    "                           pn.panel(pn.bind(build_plot, directory_filter, ant_filter)), width=800)\n",
    "pane_data = pn.Column(dr_filter, pn.panel(pn.bind(build_data, dr_filter)), width=800)\n",
    "\n",
    "# TODO: get latest pngs\n",
    "def build_anthealth():\n",
    "    flist = sorted(glob.glob('/lustre/pipeline/lastnight/*/fig/*png'))\n",
    "    fnxx = flist[-2]\n",
    "    fnyy = flist[-1]\n",
    "    pane_antxx = pn.pane.PNG(display.Image(fnxx), width=400)\n",
    "    pane_antyy = pn.pane.PNG(display.Image(fnyy), width=400)\n",
    "    pane_ant = pn.Row(pn.Row(pn.Column(pn.pane.Markdown(fnxx.split('/')[-1].rstrip('.png')), pane_antxx,\n",
    "                                pn.pane.HTML(\"<h3><a href='http://obelix.rice.edu/~ai14/OVRO_LWA'>More detail at Rice</a></h3>\"))),\n",
    "                      pn.Column(pn.pane.Markdown(fnyy.split('/')[-1].rstrip('.png')), pane_antyy))\n",
    "    return pane_ant\n",
    "pf = pn.param.ParamFunction(build_anthealth, lazy=True)\n",
    "\n",
    "header_f = pn.pane.Markdown('##Data', width=800)"
   ]
  },
  {
   "cell_type": "code",
   "execution_count": null,
   "metadata": {
    "scrolled": true
   },
   "outputs": [],
   "source": [
    "flist = sorted(glob.glob('/home/pipeline/caltables/latest/*html'))\n",
    "gains_filter = pn.widgets.Select(name='Select gain file', options=flist) #[fn.split('/')[-1] for fn in flist])\n",
    "\n",
    "def build_gains(fn):\n",
    "    pg = pn.pane.HTML(display.HTML(filename=fn), height=1200, width=1000)\n",
    "    return pn.Column(pg)\n",
    "\n",
    "pane_gains = pn.Column(gains_filter, pn.panel(pn.bind(build_gains, gains_filter)), width=800)\n"
   ]
  },
  {
   "cell_type": "code",
   "execution_count": null,
   "metadata": {
    "scrolled": true
   },
   "outputs": [],
   "source": [
    "dashboard_title = pn.panel('## OVRO-LWA System Health Dashboard')\n",
    "tabs = pn.Tabs(('Cabling', df_cnf_pane),\n",
    "               ('Antennas', pant),\n",
    "               ('ARX', pa),\n",
    "               ('F-engine', pfeng),\n",
    "               ('X-engine', px),\n",
    "               ('Data recorder', pdr),\n",
    "               dynamic=True, active=5)\n",
    "\n",
    "data_tabs = pn.Tabs(('Data recorder', pane_data),\n",
    "                    ('Low Frequency Sky', pane_lfs),\n",
    "                    ('Plot spectrum', plot_spec_pane),\n",
    "                    ('Antenna flags', pf),\n",
    "                    ('Gains', pane_gains),\n",
    "                    dynamic=True, active=0)\n",
    "\n",
    "pn.state.on_session_destroyed(cleanup)\n",
    "\n",
    "mini_dashboard = pn.Column(dashboard_title, pane_gonogo, tabs, header_f, data_tabs, width=700)"
   ]
  },
  {
   "cell_type": "code",
   "execution_count": null,
   "metadata": {
    "scrolled": false
   },
   "outputs": [],
   "source": [
    "mini_dashboard.servable(title='OVRO-LWA dashboard')"
   ]
  },
  {
   "cell_type": "code",
   "execution_count": null,
   "metadata": {},
   "outputs": [],
   "source": []
  }
 ],
 "metadata": {
  "kernelspec": {
   "display_name": "development",
   "language": "python",
   "name": "development"
  },
  "language_info": {
   "codemirror_mode": {
    "name": "ipython",
    "version": 3
   },
   "file_extension": ".py",
   "mimetype": "text/x-python",
   "name": "python",
   "nbconvert_exporter": "python",
   "pygments_lexer": "ipython3",
   "version": "3.6.13"
  }
 },
 "nbformat": 4,
 "nbformat_minor": 4
}
